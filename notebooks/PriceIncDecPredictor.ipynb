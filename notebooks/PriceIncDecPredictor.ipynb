{
 "metadata": {
  "language_info": {
   "codemirror_mode": {
    "name": "ipython",
    "version": 3
   },
   "file_extension": ".py",
   "mimetype": "text/x-python",
   "name": "python",
   "nbconvert_exporter": "python",
   "pygments_lexer": "ipython3",
   "version": "3.7.6-final"
  },
  "orig_nbformat": 2,
  "kernelspec": {
   "name": "python_defaultSpec_1599616401314",
   "display_name": "Python 3.7.6 64-bit ('base': conda)"
  }
 },
 "nbformat": 4,
 "nbformat_minor": 2,
 "cells": [
  {
   "cell_type": "code",
   "execution_count": 137,
   "metadata": {},
   "outputs": [],
   "source": [
    "# This program use machine learning algorithm called \"Decision Tree\" to predict if the price of a stock will increase or decrease"
   ]
  },
  {
   "cell_type": "code",
   "execution_count": 138,
   "metadata": {},
   "outputs": [],
   "source": [
    "import numpy as np\n",
    "import pandas as pd\n",
    "from sklearn.model_selection import train_test_split\n",
    "from sklearn.tree import DecisionTreeClassifier\n",
    "import quandl\n",
    "import yfinance as yf"
   ]
  },
  {
   "cell_type": "code",
   "execution_count": 139,
   "metadata": {},
   "outputs": [],
   "source": [
    "# API_KEY = '8ohVvwCgmzgRpFeza8FD'\n",
    "# quandl.ApiConfig.api_key = API_KEY"
   ]
  },
  {
   "cell_type": "code",
   "execution_count": 140,
   "metadata": {},
   "outputs": [],
   "source": [
    "# df = quandl.get('WIKI/AMZN')\n",
    "df.tail()\n",
    "dfy = yf.download('AMZN', start='2000-01-01', end='2020-09-08', progress=False)"
   ]
  },
  {
   "cell_type": "code",
   "execution_count": 141,
   "metadata": {
    "tags": []
   },
   "outputs": [
    {
     "output_type": "execute_result",
     "data": {
      "text/plain": "                   Open         High          Low        Close    Adj Close  \\\nDate                                                                          \n2000-01-03    81.500000    89.562500    79.046875    89.375000    89.375000   \n2000-01-04    85.375000    91.500000    81.750000    81.937500    81.937500   \n2000-01-05    70.500000    75.125000    68.000000    69.750000    69.750000   \n2000-01-06    71.312500    72.687500    64.000000    65.562500    65.562500   \n2000-01-07    67.000000    70.500000    66.187500    69.562500    69.562500   \n...                 ...          ...          ...          ...          ...   \n2020-08-31  3408.989990  3495.000000  3405.000000  3450.959961  3450.959961   \n2020-09-01  3489.580078  3513.870117  3467.000000  3499.120117  3499.120117   \n2020-09-02  3547.000000  3552.250000  3486.689941  3531.449951  3531.449951   \n2020-09-03  3485.000000  3488.409912  3303.000000  3368.000000  3368.000000   \n2020-09-04  3318.000000  3381.500000  3111.129883  3294.620117  3294.620117   \n\n              Volume  \nDate                  \n2000-01-03  16117600  \n2000-01-04  17487400  \n2000-01-05  38457400  \n2000-01-06  18752000  \n2000-01-07  10505400  \n...              ...  \n2020-08-31   4185900  \n2020-09-01   3476400  \n2020-09-02   3931500  \n2020-09-03   8161100  \n2020-09-04   8781800  \n\n[5203 rows x 6 columns]",
      "text/html": "<div>\n<style scoped>\n    .dataframe tbody tr th:only-of-type {\n        vertical-align: middle;\n    }\n\n    .dataframe tbody tr th {\n        vertical-align: top;\n    }\n\n    .dataframe thead th {\n        text-align: right;\n    }\n</style>\n<table border=\"1\" class=\"dataframe\">\n  <thead>\n    <tr style=\"text-align: right;\">\n      <th></th>\n      <th>Open</th>\n      <th>High</th>\n      <th>Low</th>\n      <th>Close</th>\n      <th>Adj Close</th>\n      <th>Volume</th>\n    </tr>\n    <tr>\n      <th>Date</th>\n      <th></th>\n      <th></th>\n      <th></th>\n      <th></th>\n      <th></th>\n      <th></th>\n    </tr>\n  </thead>\n  <tbody>\n    <tr>\n      <th>2000-01-03</th>\n      <td>81.500000</td>\n      <td>89.562500</td>\n      <td>79.046875</td>\n      <td>89.375000</td>\n      <td>89.375000</td>\n      <td>16117600</td>\n    </tr>\n    <tr>\n      <th>2000-01-04</th>\n      <td>85.375000</td>\n      <td>91.500000</td>\n      <td>81.750000</td>\n      <td>81.937500</td>\n      <td>81.937500</td>\n      <td>17487400</td>\n    </tr>\n    <tr>\n      <th>2000-01-05</th>\n      <td>70.500000</td>\n      <td>75.125000</td>\n      <td>68.000000</td>\n      <td>69.750000</td>\n      <td>69.750000</td>\n      <td>38457400</td>\n    </tr>\n    <tr>\n      <th>2000-01-06</th>\n      <td>71.312500</td>\n      <td>72.687500</td>\n      <td>64.000000</td>\n      <td>65.562500</td>\n      <td>65.562500</td>\n      <td>18752000</td>\n    </tr>\n    <tr>\n      <th>2000-01-07</th>\n      <td>67.000000</td>\n      <td>70.500000</td>\n      <td>66.187500</td>\n      <td>69.562500</td>\n      <td>69.562500</td>\n      <td>10505400</td>\n    </tr>\n    <tr>\n      <th>...</th>\n      <td>...</td>\n      <td>...</td>\n      <td>...</td>\n      <td>...</td>\n      <td>...</td>\n      <td>...</td>\n    </tr>\n    <tr>\n      <th>2020-08-31</th>\n      <td>3408.989990</td>\n      <td>3495.000000</td>\n      <td>3405.000000</td>\n      <td>3450.959961</td>\n      <td>3450.959961</td>\n      <td>4185900</td>\n    </tr>\n    <tr>\n      <th>2020-09-01</th>\n      <td>3489.580078</td>\n      <td>3513.870117</td>\n      <td>3467.000000</td>\n      <td>3499.120117</td>\n      <td>3499.120117</td>\n      <td>3476400</td>\n    </tr>\n    <tr>\n      <th>2020-09-02</th>\n      <td>3547.000000</td>\n      <td>3552.250000</td>\n      <td>3486.689941</td>\n      <td>3531.449951</td>\n      <td>3531.449951</td>\n      <td>3931500</td>\n    </tr>\n    <tr>\n      <th>2020-09-03</th>\n      <td>3485.000000</td>\n      <td>3488.409912</td>\n      <td>3303.000000</td>\n      <td>3368.000000</td>\n      <td>3368.000000</td>\n      <td>8161100</td>\n    </tr>\n    <tr>\n      <th>2020-09-04</th>\n      <td>3318.000000</td>\n      <td>3381.500000</td>\n      <td>3111.129883</td>\n      <td>3294.620117</td>\n      <td>3294.620117</td>\n      <td>8781800</td>\n    </tr>\n  </tbody>\n</table>\n<p>5203 rows × 6 columns</p>\n</div>"
     },
     "metadata": {},
     "execution_count": 141
    }
   ],
   "source": [
    "dfy"
   ]
  },
  {
   "cell_type": "code",
   "execution_count": 142,
   "metadata": {},
   "outputs": [
    {
     "output_type": "execute_result",
     "data": {
      "text/plain": "               Open     High        Low    Close  Adj Close    Volume  \\\nDate                                                                    \n2000-01-03  81.5000  89.5625  79.046875  89.3750    89.3750  16117600   \n2000-01-04  85.3750  91.5000  81.750000  81.9375    81.9375  17487400   \n2000-01-05  70.5000  75.1250  68.000000  69.7500    69.7500  38457400   \n2000-01-06  71.3125  72.6875  64.000000  65.5625    65.5625  18752000   \n2000-01-07  67.0000  70.5000  66.187500  69.5625    69.5625  10505400   \n2000-01-10  72.5625  72.6250  65.562500  69.1875    69.1875  14757900   \n2000-01-11  66.8750  70.0000  65.000000  66.7500    66.7500  10532700   \n2000-01-12  67.8750  68.0000  63.000000  63.5625    63.5625  10804500   \n2000-01-13  64.9375  67.1875  63.125000  65.9375    65.9375  10448100   \n2000-01-14  66.7500  68.6250  64.000000  64.2500    64.2500   6853600   \n2000-01-18  63.4375  65.1875  63.000000  64.1250    64.1250   5384900   \n2000-01-19  64.1250  67.5000  63.000000  66.8125    66.8125   8245500   \n2000-01-20  66.9375  67.0000  63.937500  64.7500    64.7500   5978000   \n2000-01-21  64.6250  64.6250  60.000000  62.0625    62.0625  11461900   \n2000-01-24  67.5625  73.3750  67.500000  70.1250    70.1250  29170200   \n2000-01-25  70.0000  71.2500  66.000000  69.2500    69.2500   9434100   \n2000-01-26  68.6250  70.0000  64.750000  64.8125    64.8125   6558000   \n2000-01-27  65.1875  67.7500  64.625000  66.9375    66.9375   6784000   \n2000-01-28  65.0000  66.4375  60.000000  61.6875    61.6875  13777900   \n2000-01-31  60.3750  64.7500  58.437500  64.5625    64.5625  10697900   \n\n            Price_Up  \nDate                  \n2000-01-03         0  \n2000-01-04         0  \n2000-01-05         0  \n2000-01-06         1  \n2000-01-07         0  \n2000-01-10         0  \n2000-01-11         0  \n2000-01-12         1  \n2000-01-13         0  \n2000-01-14         0  \n2000-01-18         1  \n2000-01-19         0  \n2000-01-20         0  \n2000-01-21         1  \n2000-01-24         0  \n2000-01-25         0  \n2000-01-26         1  \n2000-01-27         0  \n2000-01-28         1  \n2000-01-31         1  ",
      "text/html": "<div>\n<style scoped>\n    .dataframe tbody tr th:only-of-type {\n        vertical-align: middle;\n    }\n\n    .dataframe tbody tr th {\n        vertical-align: top;\n    }\n\n    .dataframe thead th {\n        text-align: right;\n    }\n</style>\n<table border=\"1\" class=\"dataframe\">\n  <thead>\n    <tr style=\"text-align: right;\">\n      <th></th>\n      <th>Open</th>\n      <th>High</th>\n      <th>Low</th>\n      <th>Close</th>\n      <th>Adj Close</th>\n      <th>Volume</th>\n      <th>Price_Up</th>\n    </tr>\n    <tr>\n      <th>Date</th>\n      <th></th>\n      <th></th>\n      <th></th>\n      <th></th>\n      <th></th>\n      <th></th>\n      <th></th>\n    </tr>\n  </thead>\n  <tbody>\n    <tr>\n      <th>2000-01-03</th>\n      <td>81.5000</td>\n      <td>89.5625</td>\n      <td>79.046875</td>\n      <td>89.3750</td>\n      <td>89.3750</td>\n      <td>16117600</td>\n      <td>0</td>\n    </tr>\n    <tr>\n      <th>2000-01-04</th>\n      <td>85.3750</td>\n      <td>91.5000</td>\n      <td>81.750000</td>\n      <td>81.9375</td>\n      <td>81.9375</td>\n      <td>17487400</td>\n      <td>0</td>\n    </tr>\n    <tr>\n      <th>2000-01-05</th>\n      <td>70.5000</td>\n      <td>75.1250</td>\n      <td>68.000000</td>\n      <td>69.7500</td>\n      <td>69.7500</td>\n      <td>38457400</td>\n      <td>0</td>\n    </tr>\n    <tr>\n      <th>2000-01-06</th>\n      <td>71.3125</td>\n      <td>72.6875</td>\n      <td>64.000000</td>\n      <td>65.5625</td>\n      <td>65.5625</td>\n      <td>18752000</td>\n      <td>1</td>\n    </tr>\n    <tr>\n      <th>2000-01-07</th>\n      <td>67.0000</td>\n      <td>70.5000</td>\n      <td>66.187500</td>\n      <td>69.5625</td>\n      <td>69.5625</td>\n      <td>10505400</td>\n      <td>0</td>\n    </tr>\n    <tr>\n      <th>2000-01-10</th>\n      <td>72.5625</td>\n      <td>72.6250</td>\n      <td>65.562500</td>\n      <td>69.1875</td>\n      <td>69.1875</td>\n      <td>14757900</td>\n      <td>0</td>\n    </tr>\n    <tr>\n      <th>2000-01-11</th>\n      <td>66.8750</td>\n      <td>70.0000</td>\n      <td>65.000000</td>\n      <td>66.7500</td>\n      <td>66.7500</td>\n      <td>10532700</td>\n      <td>0</td>\n    </tr>\n    <tr>\n      <th>2000-01-12</th>\n      <td>67.8750</td>\n      <td>68.0000</td>\n      <td>63.000000</td>\n      <td>63.5625</td>\n      <td>63.5625</td>\n      <td>10804500</td>\n      <td>1</td>\n    </tr>\n    <tr>\n      <th>2000-01-13</th>\n      <td>64.9375</td>\n      <td>67.1875</td>\n      <td>63.125000</td>\n      <td>65.9375</td>\n      <td>65.9375</td>\n      <td>10448100</td>\n      <td>0</td>\n    </tr>\n    <tr>\n      <th>2000-01-14</th>\n      <td>66.7500</td>\n      <td>68.6250</td>\n      <td>64.000000</td>\n      <td>64.2500</td>\n      <td>64.2500</td>\n      <td>6853600</td>\n      <td>0</td>\n    </tr>\n    <tr>\n      <th>2000-01-18</th>\n      <td>63.4375</td>\n      <td>65.1875</td>\n      <td>63.000000</td>\n      <td>64.1250</td>\n      <td>64.1250</td>\n      <td>5384900</td>\n      <td>1</td>\n    </tr>\n    <tr>\n      <th>2000-01-19</th>\n      <td>64.1250</td>\n      <td>67.5000</td>\n      <td>63.000000</td>\n      <td>66.8125</td>\n      <td>66.8125</td>\n      <td>8245500</td>\n      <td>0</td>\n    </tr>\n    <tr>\n      <th>2000-01-20</th>\n      <td>66.9375</td>\n      <td>67.0000</td>\n      <td>63.937500</td>\n      <td>64.7500</td>\n      <td>64.7500</td>\n      <td>5978000</td>\n      <td>0</td>\n    </tr>\n    <tr>\n      <th>2000-01-21</th>\n      <td>64.6250</td>\n      <td>64.6250</td>\n      <td>60.000000</td>\n      <td>62.0625</td>\n      <td>62.0625</td>\n      <td>11461900</td>\n      <td>1</td>\n    </tr>\n    <tr>\n      <th>2000-01-24</th>\n      <td>67.5625</td>\n      <td>73.3750</td>\n      <td>67.500000</td>\n      <td>70.1250</td>\n      <td>70.1250</td>\n      <td>29170200</td>\n      <td>0</td>\n    </tr>\n    <tr>\n      <th>2000-01-25</th>\n      <td>70.0000</td>\n      <td>71.2500</td>\n      <td>66.000000</td>\n      <td>69.2500</td>\n      <td>69.2500</td>\n      <td>9434100</td>\n      <td>0</td>\n    </tr>\n    <tr>\n      <th>2000-01-26</th>\n      <td>68.6250</td>\n      <td>70.0000</td>\n      <td>64.750000</td>\n      <td>64.8125</td>\n      <td>64.8125</td>\n      <td>6558000</td>\n      <td>1</td>\n    </tr>\n    <tr>\n      <th>2000-01-27</th>\n      <td>65.1875</td>\n      <td>67.7500</td>\n      <td>64.625000</td>\n      <td>66.9375</td>\n      <td>66.9375</td>\n      <td>6784000</td>\n      <td>0</td>\n    </tr>\n    <tr>\n      <th>2000-01-28</th>\n      <td>65.0000</td>\n      <td>66.4375</td>\n      <td>60.000000</td>\n      <td>61.6875</td>\n      <td>61.6875</td>\n      <td>13777900</td>\n      <td>1</td>\n    </tr>\n    <tr>\n      <th>2000-01-31</th>\n      <td>60.3750</td>\n      <td>64.7500</td>\n      <td>58.437500</td>\n      <td>64.5625</td>\n      <td>64.5625</td>\n      <td>10697900</td>\n      <td>1</td>\n    </tr>\n  </tbody>\n</table>\n</div>"
     },
     "metadata": {},
     "execution_count": 142
    }
   ],
   "source": [
    "dfy['Price_Up'] = np.where(dfy['Close'].shift(-1, axis=0) > dfy['Close'], 1, 0)\n",
    "dfy.head(20)"
   ]
  },
  {
   "cell_type": "code",
   "execution_count": 143,
   "metadata": {},
   "outputs": [
    {
     "output_type": "execute_result",
     "data": {
      "text/plain": "               Open     High        Low    Close  Adj Close    Volume  \\\nDate                                                                    \n2000-01-03  81.5000  89.5625  79.046875  89.3750    89.3750  16117600   \n2000-01-04  85.3750  91.5000  81.750000  81.9375    81.9375  17487400   \n2000-01-05  70.5000  75.1250  68.000000  69.7500    69.7500  38457400   \n2000-01-06  71.3125  72.6875  64.000000  65.5625    65.5625  18752000   \n2000-01-07  67.0000  70.5000  66.187500  69.5625    69.5625  10505400   \n2000-01-10  72.5625  72.6250  65.562500  69.1875    69.1875  14757900   \n2000-01-11  66.8750  70.0000  65.000000  66.7500    66.7500  10532700   \n2000-01-12  67.8750  68.0000  63.000000  63.5625    63.5625  10804500   \n2000-01-13  64.9375  67.1875  63.125000  65.9375    65.9375  10448100   \n2000-01-14  66.7500  68.6250  64.000000  64.2500    64.2500   6853600   \n2000-01-18  63.4375  65.1875  63.000000  64.1250    64.1250   5384900   \n2000-01-19  64.1250  67.5000  63.000000  66.8125    66.8125   8245500   \n2000-01-20  66.9375  67.0000  63.937500  64.7500    64.7500   5978000   \n2000-01-21  64.6250  64.6250  60.000000  62.0625    62.0625  11461900   \n2000-01-24  67.5625  73.3750  67.500000  70.1250    70.1250  29170200   \n2000-01-25  70.0000  71.2500  66.000000  69.2500    69.2500   9434100   \n2000-01-26  68.6250  70.0000  64.750000  64.8125    64.8125   6558000   \n2000-01-27  65.1875  67.7500  64.625000  66.9375    66.9375   6784000   \n2000-01-28  65.0000  66.4375  60.000000  61.6875    61.6875  13777900   \n2000-01-31  60.3750  64.7500  58.437500  64.5625    64.5625  10697900   \n\n            Price_Up  \nDate                  \n2000-01-03         0  \n2000-01-04         1  \n2000-01-05         1  \n2000-01-06         1  \n2000-01-07         0  \n2000-01-10         1  \n2000-01-11         1  \n2000-01-12         1  \n2000-01-13         0  \n2000-01-14         1  \n2000-01-18         1  \n2000-01-19         0  \n2000-01-20         1  \n2000-01-21         1  \n2000-01-24         0  \n2000-01-25         1  \n2000-01-26         1  \n2000-01-27         0  \n2000-01-28         1  \n2000-01-31         0  ",
      "text/html": "<div>\n<style scoped>\n    .dataframe tbody tr th:only-of-type {\n        vertical-align: middle;\n    }\n\n    .dataframe tbody tr th {\n        vertical-align: top;\n    }\n\n    .dataframe thead th {\n        text-align: right;\n    }\n</style>\n<table border=\"1\" class=\"dataframe\">\n  <thead>\n    <tr style=\"text-align: right;\">\n      <th></th>\n      <th>Open</th>\n      <th>High</th>\n      <th>Low</th>\n      <th>Close</th>\n      <th>Adj Close</th>\n      <th>Volume</th>\n      <th>Price_Up</th>\n    </tr>\n    <tr>\n      <th>Date</th>\n      <th></th>\n      <th></th>\n      <th></th>\n      <th></th>\n      <th></th>\n      <th></th>\n      <th></th>\n    </tr>\n  </thead>\n  <tbody>\n    <tr>\n      <th>2000-01-03</th>\n      <td>81.5000</td>\n      <td>89.5625</td>\n      <td>79.046875</td>\n      <td>89.3750</td>\n      <td>89.3750</td>\n      <td>16117600</td>\n      <td>0</td>\n    </tr>\n    <tr>\n      <th>2000-01-04</th>\n      <td>85.3750</td>\n      <td>91.5000</td>\n      <td>81.750000</td>\n      <td>81.9375</td>\n      <td>81.9375</td>\n      <td>17487400</td>\n      <td>1</td>\n    </tr>\n    <tr>\n      <th>2000-01-05</th>\n      <td>70.5000</td>\n      <td>75.1250</td>\n      <td>68.000000</td>\n      <td>69.7500</td>\n      <td>69.7500</td>\n      <td>38457400</td>\n      <td>1</td>\n    </tr>\n    <tr>\n      <th>2000-01-06</th>\n      <td>71.3125</td>\n      <td>72.6875</td>\n      <td>64.000000</td>\n      <td>65.5625</td>\n      <td>65.5625</td>\n      <td>18752000</td>\n      <td>1</td>\n    </tr>\n    <tr>\n      <th>2000-01-07</th>\n      <td>67.0000</td>\n      <td>70.5000</td>\n      <td>66.187500</td>\n      <td>69.5625</td>\n      <td>69.5625</td>\n      <td>10505400</td>\n      <td>0</td>\n    </tr>\n    <tr>\n      <th>2000-01-10</th>\n      <td>72.5625</td>\n      <td>72.6250</td>\n      <td>65.562500</td>\n      <td>69.1875</td>\n      <td>69.1875</td>\n      <td>14757900</td>\n      <td>1</td>\n    </tr>\n    <tr>\n      <th>2000-01-11</th>\n      <td>66.8750</td>\n      <td>70.0000</td>\n      <td>65.000000</td>\n      <td>66.7500</td>\n      <td>66.7500</td>\n      <td>10532700</td>\n      <td>1</td>\n    </tr>\n    <tr>\n      <th>2000-01-12</th>\n      <td>67.8750</td>\n      <td>68.0000</td>\n      <td>63.000000</td>\n      <td>63.5625</td>\n      <td>63.5625</td>\n      <td>10804500</td>\n      <td>1</td>\n    </tr>\n    <tr>\n      <th>2000-01-13</th>\n      <td>64.9375</td>\n      <td>67.1875</td>\n      <td>63.125000</td>\n      <td>65.9375</td>\n      <td>65.9375</td>\n      <td>10448100</td>\n      <td>0</td>\n    </tr>\n    <tr>\n      <th>2000-01-14</th>\n      <td>66.7500</td>\n      <td>68.6250</td>\n      <td>64.000000</td>\n      <td>64.2500</td>\n      <td>64.2500</td>\n      <td>6853600</td>\n      <td>1</td>\n    </tr>\n    <tr>\n      <th>2000-01-18</th>\n      <td>63.4375</td>\n      <td>65.1875</td>\n      <td>63.000000</td>\n      <td>64.1250</td>\n      <td>64.1250</td>\n      <td>5384900</td>\n      <td>1</td>\n    </tr>\n    <tr>\n      <th>2000-01-19</th>\n      <td>64.1250</td>\n      <td>67.5000</td>\n      <td>63.000000</td>\n      <td>66.8125</td>\n      <td>66.8125</td>\n      <td>8245500</td>\n      <td>0</td>\n    </tr>\n    <tr>\n      <th>2000-01-20</th>\n      <td>66.9375</td>\n      <td>67.0000</td>\n      <td>63.937500</td>\n      <td>64.7500</td>\n      <td>64.7500</td>\n      <td>5978000</td>\n      <td>1</td>\n    </tr>\n    <tr>\n      <th>2000-01-21</th>\n      <td>64.6250</td>\n      <td>64.6250</td>\n      <td>60.000000</td>\n      <td>62.0625</td>\n      <td>62.0625</td>\n      <td>11461900</td>\n      <td>1</td>\n    </tr>\n    <tr>\n      <th>2000-01-24</th>\n      <td>67.5625</td>\n      <td>73.3750</td>\n      <td>67.500000</td>\n      <td>70.1250</td>\n      <td>70.1250</td>\n      <td>29170200</td>\n      <td>0</td>\n    </tr>\n    <tr>\n      <th>2000-01-25</th>\n      <td>70.0000</td>\n      <td>71.2500</td>\n      <td>66.000000</td>\n      <td>69.2500</td>\n      <td>69.2500</td>\n      <td>9434100</td>\n      <td>1</td>\n    </tr>\n    <tr>\n      <th>2000-01-26</th>\n      <td>68.6250</td>\n      <td>70.0000</td>\n      <td>64.750000</td>\n      <td>64.8125</td>\n      <td>64.8125</td>\n      <td>6558000</td>\n      <td>1</td>\n    </tr>\n    <tr>\n      <th>2000-01-27</th>\n      <td>65.1875</td>\n      <td>67.7500</td>\n      <td>64.625000</td>\n      <td>66.9375</td>\n      <td>66.9375</td>\n      <td>6784000</td>\n      <td>0</td>\n    </tr>\n    <tr>\n      <th>2000-01-28</th>\n      <td>65.0000</td>\n      <td>66.4375</td>\n      <td>60.000000</td>\n      <td>61.6875</td>\n      <td>61.6875</td>\n      <td>13777900</td>\n      <td>1</td>\n    </tr>\n    <tr>\n      <th>2000-01-31</th>\n      <td>60.3750</td>\n      <td>64.7500</td>\n      <td>58.437500</td>\n      <td>64.5625</td>\n      <td>64.5625</td>\n      <td>10697900</td>\n      <td>0</td>\n    </tr>\n  </tbody>\n</table>\n</div>"
     },
     "metadata": {},
     "execution_count": 143
    }
   ],
   "source": [
    "dfy['Price_Up'] = np.where(dfy['Close'].shift(1) > dfy['Close'], 1, 0)\n",
    "dfy.head(20)"
   ]
  },
  {
   "cell_type": "code",
   "execution_count": 144,
   "metadata": {},
   "outputs": [],
   "source": [
    "X = dfy.iloc[:, 0:dfy.shape[1]-1].values\n",
    "y = dfy.iloc[:, dfy.shape[1]-1].values\n",
    "X_train, X_test, y_train, y_test = train_test_split(X,y,test_size=.2)"
   ]
  },
  {
   "cell_type": "code",
   "execution_count": 145,
   "metadata": {},
   "outputs": [
    {
     "output_type": "execute_result",
     "data": {
      "text/plain": "0.6945244956772334"
     },
     "metadata": {},
     "execution_count": 145
    }
   ],
   "source": [
    "# Create and train the model (DecisionTreeClassifier)\n",
    "tree = DecisionTreeClassifier().fit(X_train,y_train)\n",
    "tree.score(X_test,y_test)"
   ]
  },
  {
   "cell_type": "code",
   "execution_count": 146,
   "metadata": {},
   "outputs": [],
   "source": [
    "predictions = tree.predict(X_test)"
   ]
  },
  {
   "cell_type": "code",
   "execution_count": 147,
   "metadata": {
    "tags": []
   },
   "outputs": [
    {
     "output_type": "stream",
     "name": "stdout",
     "text": "[0 0 1 ... 0 1 0]\n[1 0 1 ... 0 1 0]\n"
    }
   ],
   "source": [
    "print(predictions)\n",
    "print(y_test)"
   ]
  },
  {
   "cell_type": "code",
   "execution_count": null,
   "metadata": {},
   "outputs": [],
   "source": []
  }
 ]
}