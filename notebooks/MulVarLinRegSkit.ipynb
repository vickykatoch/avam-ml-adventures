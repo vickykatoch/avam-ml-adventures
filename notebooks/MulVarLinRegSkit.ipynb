{
 "cells": [
  {
   "cell_type": "code",
   "execution_count": 18,
   "metadata": {},
   "outputs": [],
   "source": [
    "import pandas as pd\n",
    "from datetime import datetime\n",
    "import numpy as np\n",
    "from sklearn.linear_model import LinearRegression\n",
    "import matplotlib.pyplot as plt"
   ]
  },
  {
   "cell_type": "code",
   "execution_count": 19,
   "metadata": {},
   "outputs": [],
   "source": [
    "SPY_data = pd.read_csv('../data/advanced/SPY_regression.csv')\n",
    "SPY_data['Date'] = pd.to_datetime(SPY_data['Date'])\n",
    "SPY_data.set_index('Date',inplace=True)"
   ]
  },
  {
   "cell_type": "code",
   "execution_count": 20,
   "metadata": {},
   "outputs": [
    {
     "data": {
      "text/html": [
       "<div>\n",
       "<style scoped>\n",
       "    .dataframe tbody tr th:only-of-type {\n",
       "        vertical-align: middle;\n",
       "    }\n",
       "\n",
       "    .dataframe tbody tr th {\n",
       "        vertical-align: top;\n",
       "    }\n",
       "\n",
       "    .dataframe thead th {\n",
       "        text-align: right;\n",
       "    }\n",
       "</style>\n",
       "<table border=\"1\" class=\"dataframe\">\n",
       "  <thead>\n",
       "    <tr style=\"text-align: right;\">\n",
       "      <th></th>\n",
       "      <th>Open</th>\n",
       "      <th>High</th>\n",
       "      <th>Low</th>\n",
       "      <th>Close</th>\n",
       "      <th>Volume</th>\n",
       "      <th>Adj Close</th>\n",
       "    </tr>\n",
       "  </thead>\n",
       "  <tbody>\n",
       "    <tr>\n",
       "      <th>count</th>\n",
       "      <td>1493.000000</td>\n",
       "      <td>1493.000000</td>\n",
       "      <td>1493.000000</td>\n",
       "      <td>1493.000000</td>\n",
       "      <td>1.493000e+03</td>\n",
       "      <td>1493.000000</td>\n",
       "    </tr>\n",
       "    <tr>\n",
       "      <th>mean</th>\n",
       "      <td>1564.805712</td>\n",
       "      <td>1573.101540</td>\n",
       "      <td>1556.045962</td>\n",
       "      <td>1565.370924</td>\n",
       "      <td>3.778865e+09</td>\n",
       "      <td>1565.370924</td>\n",
       "    </tr>\n",
       "    <tr>\n",
       "      <th>std</th>\n",
       "      <td>344.474195</td>\n",
       "      <td>344.719565</td>\n",
       "      <td>344.233831</td>\n",
       "      <td>344.453792</td>\n",
       "      <td>8.865364e+08</td>\n",
       "      <td>344.453792</td>\n",
       "    </tr>\n",
       "    <tr>\n",
       "      <th>min</th>\n",
       "      <td>1027.650024</td>\n",
       "      <td>1032.949951</td>\n",
       "      <td>1010.909973</td>\n",
       "      <td>1022.580017</td>\n",
       "      <td>5.362000e+08</td>\n",
       "      <td>1022.580017</td>\n",
       "    </tr>\n",
       "    <tr>\n",
       "      <th>25%</th>\n",
       "      <td>1277.030029</td>\n",
       "      <td>1283.930054</td>\n",
       "      <td>1267.400024</td>\n",
       "      <td>1277.300049</td>\n",
       "      <td>3.252780e+09</td>\n",
       "      <td>1277.300049</td>\n",
       "    </tr>\n",
       "    <tr>\n",
       "      <th>50%</th>\n",
       "      <td>1459.369995</td>\n",
       "      <td>1462.430054</td>\n",
       "      <td>1452.060059</td>\n",
       "      <td>1459.369995</td>\n",
       "      <td>3.673450e+09</td>\n",
       "      <td>1459.369995</td>\n",
       "    </tr>\n",
       "    <tr>\n",
       "      <th>75%</th>\n",
       "      <td>1911.770020</td>\n",
       "      <td>1927.209961</td>\n",
       "      <td>1902.010010</td>\n",
       "      <td>1913.849976</td>\n",
       "      <td>4.214910e+09</td>\n",
       "      <td>1913.849976</td>\n",
       "    </tr>\n",
       "    <tr>\n",
       "      <th>max</th>\n",
       "      <td>2130.360107</td>\n",
       "      <td>2134.719971</td>\n",
       "      <td>2126.060059</td>\n",
       "      <td>2130.820068</td>\n",
       "      <td>1.061781e+10</td>\n",
       "      <td>2130.820068</td>\n",
       "    </tr>\n",
       "  </tbody>\n",
       "</table>\n",
       "</div>"
      ],
      "text/plain": [
       "              Open         High          Low        Close        Volume  \\\n",
       "count  1493.000000  1493.000000  1493.000000  1493.000000  1.493000e+03   \n",
       "mean   1564.805712  1573.101540  1556.045962  1565.370924  3.778865e+09   \n",
       "std     344.474195   344.719565   344.233831   344.453792  8.865364e+08   \n",
       "min    1027.650024  1032.949951  1010.909973  1022.580017  5.362000e+08   \n",
       "25%    1277.030029  1283.930054  1267.400024  1277.300049  3.252780e+09   \n",
       "50%    1459.369995  1462.430054  1452.060059  1459.369995  3.673450e+09   \n",
       "75%    1911.770020  1927.209961  1902.010010  1913.849976  4.214910e+09   \n",
       "max    2130.360107  2134.719971  2126.060059  2130.820068  1.061781e+10   \n",
       "\n",
       "         Adj Close  \n",
       "count  1493.000000  \n",
       "mean   1565.370924  \n",
       "std     344.453792  \n",
       "min    1022.580017  \n",
       "25%    1277.300049  \n",
       "50%    1459.369995  \n",
       "75%    1913.849976  \n",
       "max    2130.820068  "
      ]
     },
     "execution_count": 20,
     "metadata": {},
     "output_type": "execute_result"
    }
   ],
   "source": [
    "SPY_data.describe()"
   ]
  },
  {
   "cell_type": "markdown",
   "metadata": {},
   "source": [
    "# Feature Engineering\n",
    "## 1. High – Low percent change"
   ]
  },
  {
   "cell_type": "code",
   "execution_count": 21,
   "metadata": {},
   "outputs": [],
   "source": [
    "# (current - prior)/prior\n",
    "SPY_data['High-Low_pct'] = (SPY_data['High'] - SPY_data['Low']).pct_change()"
   ]
  },
  {
   "cell_type": "markdown",
   "metadata": {
    "tags": []
   },
   "source": [
    "first = (2090.419922 -\t2066.780029)\n",
    "second = (2093.840088 -\t2051.239990)\n",
    "print(f'First : {first}, Second : {second}, Change : {(second-first)/first}')\n"
   ]
  },
  {
   "cell_type": "markdown",
   "metadata": {},
   "source": [
    "## 2. 5 periods Exponential Moving Average"
   ]
  },
  {
   "cell_type": "code",
   "execution_count": 22,
   "metadata": {},
   "outputs": [],
   "source": [
    "SPY_data['ewm_5'] = SPY_data[\"Close\"].ewm(span=5).mean().shift(periods=1)"
   ]
  },
  {
   "cell_type": "markdown",
   "metadata": {},
   "source": [
    "## 3. Standard deviation of the price over the past 5 days"
   ]
  },
  {
   "cell_type": "code",
   "execution_count": 23,
   "metadata": {},
   "outputs": [],
   "source": [
    "SPY_data['price_std_5'] = SPY_data[\"Close\"].rolling(center=False,window= 30).std().shift(periods=1)"
   ]
  },
  {
   "cell_type": "markdown",
   "metadata": {},
   "source": [
    "## 4. Daily volume percent change"
   ]
  },
  {
   "cell_type": "code",
   "execution_count": 24,
   "metadata": {},
   "outputs": [],
   "source": [
    "SPY_data['volume Change'] = SPY_data['Volume'].pct_change()"
   ]
  },
  {
   "cell_type": "markdown",
   "metadata": {},
   "source": [
    "## 5. Average volume for the past 5 days"
   ]
  },
  {
   "cell_type": "code",
   "execution_count": 25,
   "metadata": {},
   "outputs": [],
   "source": [
    "SPY_data['volume_avg_5'] = SPY_data[\"Volume\"].rolling(center=False,window=5).mean().shift(periods=1)"
   ]
  },
  {
   "cell_type": "markdown",
   "metadata": {},
   "source": [
    "## 6. Volume over close price ratio"
   ]
  },
  {
   "cell_type": "code",
   "execution_count": 26,
   "metadata": {},
   "outputs": [],
   "source": [
    "SPY_data['volume Close'] = SPY_data[\"Volume\"].rolling(center=False,window=5).std().shift(periods=1)"
   ]
  },
  {
   "cell_type": "code",
   "execution_count": 27,
   "metadata": {},
   "outputs": [
    {
     "data": {
      "text/html": [
       "<div>\n",
       "<style scoped>\n",
       "    .dataframe tbody tr th:only-of-type {\n",
       "        vertical-align: middle;\n",
       "    }\n",
       "\n",
       "    .dataframe tbody tr th {\n",
       "        vertical-align: top;\n",
       "    }\n",
       "\n",
       "    .dataframe thead th {\n",
       "        text-align: right;\n",
       "    }\n",
       "</style>\n",
       "<table border=\"1\" class=\"dataframe\">\n",
       "  <thead>\n",
       "    <tr style=\"text-align: right;\">\n",
       "      <th></th>\n",
       "      <th>Open</th>\n",
       "      <th>High</th>\n",
       "      <th>Low</th>\n",
       "      <th>Close</th>\n",
       "      <th>Volume</th>\n",
       "      <th>Adj Close</th>\n",
       "      <th>High-Low_pct</th>\n",
       "      <th>ewm_5</th>\n",
       "      <th>price_std_5</th>\n",
       "      <th>volume Change</th>\n",
       "      <th>volume_avg_5</th>\n",
       "      <th>volume Close</th>\n",
       "    </tr>\n",
       "    <tr>\n",
       "      <th>Date</th>\n",
       "      <th></th>\n",
       "      <th></th>\n",
       "      <th></th>\n",
       "      <th></th>\n",
       "      <th></th>\n",
       "      <th></th>\n",
       "      <th></th>\n",
       "      <th></th>\n",
       "      <th></th>\n",
       "      <th></th>\n",
       "      <th></th>\n",
       "      <th></th>\n",
       "    </tr>\n",
       "  </thead>\n",
       "  <tbody>\n",
       "    <tr>\n",
       "      <th>2015-12-07</th>\n",
       "      <td>2090.419922</td>\n",
       "      <td>2090.419922</td>\n",
       "      <td>2066.780029</td>\n",
       "      <td>2077.070068</td>\n",
       "      <td>4.043820e+09</td>\n",
       "      <td>2077.070068</td>\n",
       "      <td>NaN</td>\n",
       "      <td>NaN</td>\n",
       "      <td>NaN</td>\n",
       "      <td>NaN</td>\n",
       "      <td>NaN</td>\n",
       "      <td>NaN</td>\n",
       "    </tr>\n",
       "    <tr>\n",
       "      <th>2015-12-04</th>\n",
       "      <td>2051.239990</td>\n",
       "      <td>2093.840088</td>\n",
       "      <td>2051.239990</td>\n",
       "      <td>2091.689941</td>\n",
       "      <td>4.214910e+09</td>\n",
       "      <td>2091.689941</td>\n",
       "      <td>0.802043</td>\n",
       "      <td>2077.070068</td>\n",
       "      <td>NaN</td>\n",
       "      <td>0.042309</td>\n",
       "      <td>NaN</td>\n",
       "      <td>NaN</td>\n",
       "    </tr>\n",
       "    <tr>\n",
       "      <th>2015-12-03</th>\n",
       "      <td>2080.709961</td>\n",
       "      <td>2085.000000</td>\n",
       "      <td>2042.349976</td>\n",
       "      <td>2049.620117</td>\n",
       "      <td>4.306490e+09</td>\n",
       "      <td>2049.620117</td>\n",
       "      <td>0.001172</td>\n",
       "      <td>2085.841992</td>\n",
       "      <td>NaN</td>\n",
       "      <td>0.021728</td>\n",
       "      <td>NaN</td>\n",
       "      <td>NaN</td>\n",
       "    </tr>\n",
       "    <tr>\n",
       "      <th>2015-12-02</th>\n",
       "      <td>2101.709961</td>\n",
       "      <td>2104.270020</td>\n",
       "      <td>2077.110107</td>\n",
       "      <td>2079.510010</td>\n",
       "      <td>3.950640e+09</td>\n",
       "      <td>2079.510010</td>\n",
       "      <td>-0.363191</td>\n",
       "      <td>2068.684262</td>\n",
       "      <td>NaN</td>\n",
       "      <td>-0.082631</td>\n",
       "      <td>NaN</td>\n",
       "      <td>NaN</td>\n",
       "    </tr>\n",
       "    <tr>\n",
       "      <th>2015-12-01</th>\n",
       "      <td>2082.929932</td>\n",
       "      <td>2103.370117</td>\n",
       "      <td>2082.929932</td>\n",
       "      <td>2102.629883</td>\n",
       "      <td>3.712120e+09</td>\n",
       "      <td>2102.629883</td>\n",
       "      <td>-0.247413</td>\n",
       "      <td>2073.181111</td>\n",
       "      <td>NaN</td>\n",
       "      <td>-0.060375</td>\n",
       "      <td>NaN</td>\n",
       "      <td>NaN</td>\n",
       "    </tr>\n",
       "    <tr>\n",
       "      <th>2015-11-30</th>\n",
       "      <td>2090.949951</td>\n",
       "      <td>2093.810059</td>\n",
       "      <td>2080.409912</td>\n",
       "      <td>2080.409912</td>\n",
       "      <td>4.245030e+09</td>\n",
       "      <td>2080.409912</td>\n",
       "      <td>-0.344421</td>\n",
       "      <td>2084.486090</td>\n",
       "      <td>NaN</td>\n",
       "      <td>0.143559</td>\n",
       "      <td>4.045596e+09</td>\n",
       "      <td>2.328943e+08</td>\n",
       "    </tr>\n",
       "    <tr>\n",
       "      <th>2015-11-27</th>\n",
       "      <td>2088.820068</td>\n",
       "      <td>2093.290039</td>\n",
       "      <td>2084.129883</td>\n",
       "      <td>2090.110107</td>\n",
       "      <td>1.466840e+09</td>\n",
       "      <td>2090.110107</td>\n",
       "      <td>-0.316414</td>\n",
       "      <td>2082.996599</td>\n",
       "      <td>NaN</td>\n",
       "      <td>-0.654457</td>\n",
       "      <td>4.085838e+09</td>\n",
       "      <td>2.493154e+08</td>\n",
       "    </tr>\n",
       "    <tr>\n",
       "      <th>2015-11-25</th>\n",
       "      <td>2089.300049</td>\n",
       "      <td>2093.000000</td>\n",
       "      <td>2086.300049</td>\n",
       "      <td>2088.870117</td>\n",
       "      <td>2.852940e+09</td>\n",
       "      <td>2088.870117</td>\n",
       "      <td>-0.268577</td>\n",
       "      <td>2085.515175</td>\n",
       "      <td>NaN</td>\n",
       "      <td>0.944957</td>\n",
       "      <td>3.536224e+09</td>\n",
       "      <td>1.181180e+09</td>\n",
       "    </tr>\n",
       "    <tr>\n",
       "      <th>2015-11-24</th>\n",
       "      <td>2084.419922</td>\n",
       "      <td>2094.120117</td>\n",
       "      <td>2070.290039</td>\n",
       "      <td>2089.139893</td>\n",
       "      <td>3.884930e+09</td>\n",
       "      <td>2089.139893</td>\n",
       "      <td>2.556754</td>\n",
       "      <td>2086.678895</td>\n",
       "      <td>NaN</td>\n",
       "      <td>0.361729</td>\n",
       "      <td>3.245514e+09</td>\n",
       "      <td>1.121578e+09</td>\n",
       "    </tr>\n",
       "    <tr>\n",
       "      <th>2015-11-23</th>\n",
       "      <td>2089.409912</td>\n",
       "      <td>2095.610107</td>\n",
       "      <td>2081.389893</td>\n",
       "      <td>2086.590088</td>\n",
       "      <td>3.587980e+09</td>\n",
       "      <td>2086.590088</td>\n",
       "      <td>-0.403266</td>\n",
       "      <td>2087.521137</td>\n",
       "      <td>NaN</td>\n",
       "      <td>-0.076436</td>\n",
       "      <td>3.232372e+09</td>\n",
       "      <td>1.111591e+09</td>\n",
       "    </tr>\n",
       "  </tbody>\n",
       "</table>\n",
       "</div>"
      ],
      "text/plain": [
       "                   Open         High          Low        Close        Volume  \\\n",
       "Date                                                                           \n",
       "2015-12-07  2090.419922  2090.419922  2066.780029  2077.070068  4.043820e+09   \n",
       "2015-12-04  2051.239990  2093.840088  2051.239990  2091.689941  4.214910e+09   \n",
       "2015-12-03  2080.709961  2085.000000  2042.349976  2049.620117  4.306490e+09   \n",
       "2015-12-02  2101.709961  2104.270020  2077.110107  2079.510010  3.950640e+09   \n",
       "2015-12-01  2082.929932  2103.370117  2082.929932  2102.629883  3.712120e+09   \n",
       "2015-11-30  2090.949951  2093.810059  2080.409912  2080.409912  4.245030e+09   \n",
       "2015-11-27  2088.820068  2093.290039  2084.129883  2090.110107  1.466840e+09   \n",
       "2015-11-25  2089.300049  2093.000000  2086.300049  2088.870117  2.852940e+09   \n",
       "2015-11-24  2084.419922  2094.120117  2070.290039  2089.139893  3.884930e+09   \n",
       "2015-11-23  2089.409912  2095.610107  2081.389893  2086.590088  3.587980e+09   \n",
       "\n",
       "              Adj Close  High-Low_pct        ewm_5  price_std_5  \\\n",
       "Date                                                              \n",
       "2015-12-07  2077.070068           NaN          NaN          NaN   \n",
       "2015-12-04  2091.689941      0.802043  2077.070068          NaN   \n",
       "2015-12-03  2049.620117      0.001172  2085.841992          NaN   \n",
       "2015-12-02  2079.510010     -0.363191  2068.684262          NaN   \n",
       "2015-12-01  2102.629883     -0.247413  2073.181111          NaN   \n",
       "2015-11-30  2080.409912     -0.344421  2084.486090          NaN   \n",
       "2015-11-27  2090.110107     -0.316414  2082.996599          NaN   \n",
       "2015-11-25  2088.870117     -0.268577  2085.515175          NaN   \n",
       "2015-11-24  2089.139893      2.556754  2086.678895          NaN   \n",
       "2015-11-23  2086.590088     -0.403266  2087.521137          NaN   \n",
       "\n",
       "            volume Change  volume_avg_5  volume Close  \n",
       "Date                                                   \n",
       "2015-12-07            NaN           NaN           NaN  \n",
       "2015-12-04       0.042309           NaN           NaN  \n",
       "2015-12-03       0.021728           NaN           NaN  \n",
       "2015-12-02      -0.082631           NaN           NaN  \n",
       "2015-12-01      -0.060375           NaN           NaN  \n",
       "2015-11-30       0.143559  4.045596e+09  2.328943e+08  \n",
       "2015-11-27      -0.654457  4.085838e+09  2.493154e+08  \n",
       "2015-11-25       0.944957  3.536224e+09  1.181180e+09  \n",
       "2015-11-24       0.361729  3.245514e+09  1.121578e+09  \n",
       "2015-11-23      -0.076436  3.232372e+09  1.111591e+09  "
      ]
     },
     "execution_count": 27,
     "metadata": {},
     "output_type": "execute_result"
    }
   ],
   "source": [
    "SPY_data.head(10)"
   ]
  },
  {
   "cell_type": "markdown",
   "metadata": {},
   "source": [
    "# Visualize the correlation between the features and target variable"
   ]
  },
  {
   "cell_type": "code",
   "execution_count": 28,
   "metadata": {},
   "outputs": [
    {
     "name": "stderr",
     "output_type": "stream",
     "text": [
      "*c* argument looks like a single numeric RGB or RGBA sequence, which should be avoided as value-mapping will have precedence in case its length matches with *x* & *y*.  Please use the *color* keyword-argument or provide a 2-D array with a single row if you intend to specify the same RGB or RGBA value for all points.\n",
      "*c* argument looks like a single numeric RGB or RGBA sequence, which should be avoided as value-mapping will have precedence in case its length matches with *x* & *y*.  Please use the *color* keyword-argument or provide a 2-D array with a single row if you intend to specify the same RGB or RGBA value for all points.\n",
      "*c* argument looks like a single numeric RGB or RGBA sequence, which should be avoided as value-mapping will have precedence in case its length matches with *x* & *y*.  Please use the *color* keyword-argument or provide a 2-D array with a single row if you intend to specify the same RGB or RGBA value for all points.\n",
      "*c* argument looks like a single numeric RGB or RGBA sequence, which should be avoided as value-mapping will have precedence in case its length matches with *x* & *y*.  Please use the *color* keyword-argument or provide a 2-D array with a single row if you intend to specify the same RGB or RGBA value for all points.\n",
      "*c* argument looks like a single numeric RGB or RGBA sequence, which should be avoided as value-mapping will have precedence in case its length matches with *x* & *y*.  Please use the *color* keyword-argument or provide a 2-D array with a single row if you intend to specify the same RGB or RGBA value for all points.\n",
      "*c* argument looks like a single numeric RGB or RGBA sequence, which should be avoided as value-mapping will have precedence in case its length matches with *x* & *y*.  Please use the *color* keyword-argument or provide a 2-D array with a single row if you intend to specify the same RGB or RGBA value for all points.\n"
     ]
    },
    {
     "data": {
      "image/png": "[encoded data removed]",
      "text/plain": [
       "<Figure size 1008x648 with 6 Axes>"
      ]
     },
     "metadata": {
      "needs_background": "light"
     },
     "output_type": "display_data"
    }
   ],
   "source": [
    "jet= plt.get_cmap('jet')\n",
    "colors = iter(jet(np.linspace(0,1,10)))\n",
    "\n",
    "def correlation(df,variables, n_rows, n_cols):\n",
    "#     fig = plt.figure(figsize=(8,6))\n",
    "    fig = plt.figure(figsize=(14,9))\n",
    "    for i, var in enumerate(variables):\n",
    "        ax = fig.add_subplot(n_rows,n_cols,i+1)\n",
    "        asset = df.loc[:,var]\n",
    "        ax.scatter(df[\"Adj Close\"], asset, c = next(colors))\n",
    "        ax.set_xlabel(\"Adj Close\")\n",
    "        ax.set_ylabel(\"{}\".format(var))\n",
    "        ax.set_title(var +\" vs price\")\n",
    "    fig.tight_layout() \n",
    "    plt.show()\n",
    "    \n",
    "# Take the name of the last 6 columns of the SPY_data which are the model features\n",
    "variables = SPY_data.columns[-6:]\n",
    "correlation(SPY_data,variables,3,3);"
   ]
  },
  {
   "cell_type": "code",
   "execution_count": 29,
   "metadata": {},
   "outputs": [
    {
     "data": {
      "text/plain": [
       "High-Low_pct    -0.010328\n",
       "ewm_5            0.998513\n",
       "price_std_5      0.100524\n",
       "volume Change   -0.005446\n",
       "volume_avg_5    -0.485734\n",
       "volume Close    -0.241898\n",
       "Name: Adj Close, dtype: float64"
      ]
     },
     "execution_count": 29,
     "metadata": {},
     "output_type": "execute_result"
    }
   ],
   "source": [
    "SPY_data.corr()['Adj Close'].loc[variables]"
   ]
  },
  {
   "cell_type": "code",
   "execution_count": 30,
   "metadata": {},
   "outputs": [
    {
     "data": {
      "text/plain": [
       "High-Low_pct      1\n",
       "ewm_5             1\n",
       "price_std_5      30\n",
       "volume Change     1\n",
       "volume_avg_5      5\n",
       "volume Close      5\n",
       "dtype: int64"
      ]
     },
     "execution_count": 30,
     "metadata": {},
     "output_type": "execute_result"
    }
   ],
   "source": [
    "SPY_data.isnull().sum().loc[variables]"
   ]
  },
  {
   "cell_type": "code",
   "execution_count": 31,
   "metadata": {},
   "outputs": [],
   "source": [
    "SPY_data = SPY_data.dropna(axis=0)"
   ]
  },
  {
   "cell_type": "code",
   "execution_count": 32,
   "metadata": {},
   "outputs": [
    {
     "data": {
      "text/html": [
       "<div>\n",
       "<style scoped>\n",
       "    .dataframe tbody tr th:only-of-type {\n",
       "        vertical-align: middle;\n",
       "    }\n",
       "\n",
       "    .dataframe tbody tr th {\n",
       "        vertical-align: top;\n",
       "    }\n",
       "\n",
       "    .dataframe thead th {\n",
       "        text-align: right;\n",
       "    }\n",
       "</style>\n",
       "<table border=\"1\" class=\"dataframe\">\n",
       "  <thead>\n",
       "    <tr style=\"text-align: right;\">\n",
       "      <th></th>\n",
       "      <th>Open</th>\n",
       "      <th>High</th>\n",
       "      <th>Low</th>\n",
       "      <th>Close</th>\n",
       "      <th>Volume</th>\n",
       "      <th>Adj Close</th>\n",
       "      <th>High-Low_pct</th>\n",
       "      <th>ewm_5</th>\n",
       "      <th>price_std_5</th>\n",
       "      <th>volume Change</th>\n",
       "      <th>volume_avg_5</th>\n",
       "      <th>volume Close</th>\n",
       "    </tr>\n",
       "    <tr>\n",
       "      <th>Date</th>\n",
       "      <th></th>\n",
       "      <th></th>\n",
       "      <th></th>\n",
       "      <th></th>\n",
       "      <th></th>\n",
       "      <th></th>\n",
       "      <th></th>\n",
       "      <th></th>\n",
       "      <th></th>\n",
       "      <th></th>\n",
       "      <th></th>\n",
       "      <th></th>\n",
       "    </tr>\n",
       "  </thead>\n",
       "  <tbody>\n",
       "    <tr>\n",
       "      <th>2015-10-23</th>\n",
       "      <td>2058.189941</td>\n",
       "      <td>2079.739990</td>\n",
       "      <td>2058.189941</td>\n",
       "      <td>2075.149902</td>\n",
       "      <td>4.108460e+09</td>\n",
       "      <td>2075.149902</td>\n",
       "      <td>1.502949</td>\n",
       "      <td>2078.965230</td>\n",
       "      <td>19.662414</td>\n",
       "      <td>0.213438</td>\n",
       "      <td>4.113186e+09</td>\n",
       "      <td>4.778334e+08</td>\n",
       "    </tr>\n",
       "    <tr>\n",
       "      <th>2015-10-22</th>\n",
       "      <td>2021.880005</td>\n",
       "      <td>2055.199951</td>\n",
       "      <td>2021.880005</td>\n",
       "      <td>2052.510010</td>\n",
       "      <td>4.430850e+09</td>\n",
       "      <td>2052.510010</td>\n",
       "      <td>0.546166</td>\n",
       "      <td>2077.693450</td>\n",
       "      <td>19.676415</td>\n",
       "      <td>0.078470</td>\n",
       "      <td>4.083638e+09</td>\n",
       "      <td>4.713022e+08</td>\n",
       "    </tr>\n",
       "    <tr>\n",
       "      <th>2015-10-21</th>\n",
       "      <td>2033.469971</td>\n",
       "      <td>2037.969971</td>\n",
       "      <td>2017.219971</td>\n",
       "      <td>2018.939941</td>\n",
       "      <td>3.627790e+09</td>\n",
       "      <td>2018.939941</td>\n",
       "      <td>-0.377250</td>\n",
       "      <td>2069.298950</td>\n",
       "      <td>20.183769</td>\n",
       "      <td>-0.181243</td>\n",
       "      <td>4.168020e+09</td>\n",
       "      <td>4.919039e+08</td>\n",
       "    </tr>\n",
       "    <tr>\n",
       "      <th>2015-10-20</th>\n",
       "      <td>2033.130005</td>\n",
       "      <td>2039.119995</td>\n",
       "      <td>2026.609985</td>\n",
       "      <td>2030.770020</td>\n",
       "      <td>3.331500e+09</td>\n",
       "      <td>2030.770020</td>\n",
       "      <td>-0.397108</td>\n",
       "      <td>2052.512588</td>\n",
       "      <td>22.378095</td>\n",
       "      <td>-0.081672</td>\n",
       "      <td>3.953956e+09</td>\n",
       "      <td>4.329012e+08</td>\n",
       "    </tr>\n",
       "    <tr>\n",
       "      <th>2015-10-19</th>\n",
       "      <td>2031.729980</td>\n",
       "      <td>2034.449951</td>\n",
       "      <td>2022.310059</td>\n",
       "      <td>2033.660034</td>\n",
       "      <td>3.287320e+09</td>\n",
       "      <td>2033.660034</td>\n",
       "      <td>-0.029586</td>\n",
       "      <td>2045.265058</td>\n",
       "      <td>23.970453</td>\n",
       "      <td>-0.013261</td>\n",
       "      <td>3.776880e+09</td>\n",
       "      <td>4.772727e+08</td>\n",
       "    </tr>\n",
       "    <tr>\n",
       "      <th>2015-10-16</th>\n",
       "      <td>2024.369995</td>\n",
       "      <td>2033.540039</td>\n",
       "      <td>2020.459961</td>\n",
       "      <td>2033.109985</td>\n",
       "      <td>3.595430e+09</td>\n",
       "      <td>2033.109985</td>\n",
       "      <td>0.077446</td>\n",
       "      <td>2041.396714</td>\n",
       "      <td>24.654181</td>\n",
       "      <td>0.093727</td>\n",
       "      <td>3.757184e+09</td>\n",
       "      <td>4.989846e+08</td>\n",
       "    </tr>\n",
       "    <tr>\n",
       "      <th>2015-10-15</th>\n",
       "      <td>1996.469971</td>\n",
       "      <td>2024.150024</td>\n",
       "      <td>1996.469971</td>\n",
       "      <td>2023.859985</td>\n",
       "      <td>3.746290e+09</td>\n",
       "      <td>2023.859985</td>\n",
       "      <td>1.116199</td>\n",
       "      <td>2038.634470</td>\n",
       "      <td>25.718597</td>\n",
       "      <td>0.041959</td>\n",
       "      <td>3.654578e+09</td>\n",
       "      <td>4.599109e+08</td>\n",
       "    </tr>\n",
       "    <tr>\n",
       "      <th>2015-10-14</th>\n",
       "      <td>2003.660034</td>\n",
       "      <td>2009.560059</td>\n",
       "      <td>1990.729980</td>\n",
       "      <td>1994.239990</td>\n",
       "      <td>3.644590e+09</td>\n",
       "      <td>1994.239990</td>\n",
       "      <td>-0.319724</td>\n",
       "      <td>2033.709640</td>\n",
       "      <td>26.960525</td>\n",
       "      <td>-0.027147</td>\n",
       "      <td>3.517666e+09</td>\n",
       "      <td>1.988470e+08</td>\n",
       "    </tr>\n",
       "    <tr>\n",
       "      <th>2015-10-13</th>\n",
       "      <td>2015.000000</td>\n",
       "      <td>2022.339966</td>\n",
       "      <td>2001.780029</td>\n",
       "      <td>2003.689941</td>\n",
       "      <td>3.401920e+09</td>\n",
       "      <td>2003.689941</td>\n",
       "      <td>0.091867</td>\n",
       "      <td>2020.553087</td>\n",
       "      <td>30.058610</td>\n",
       "      <td>-0.066584</td>\n",
       "      <td>3.521026e+09</td>\n",
       "      <td>2.012998e+08</td>\n",
       "    </tr>\n",
       "    <tr>\n",
       "      <th>2015-10-12</th>\n",
       "      <td>2015.650024</td>\n",
       "      <td>2018.660034</td>\n",
       "      <td>2010.550049</td>\n",
       "      <td>2017.459961</td>\n",
       "      <td>2.893250e+09</td>\n",
       "      <td>2017.459961</td>\n",
       "      <td>-0.605544</td>\n",
       "      <td>2014.932038</td>\n",
       "      <td>31.885833</td>\n",
       "      <td>-0.149524</td>\n",
       "      <td>3.535110e+09</td>\n",
       "      <td>1.866553e+08</td>\n",
       "    </tr>\n",
       "  </tbody>\n",
       "</table>\n",
       "</div>"
      ],
      "text/plain": [
       "                   Open         High          Low        Close        Volume  \\\n",
       "Date                                                                           \n",
       "2015-10-23  2058.189941  2079.739990  2058.189941  2075.149902  4.108460e+09   \n",
       "2015-10-22  2021.880005  2055.199951  2021.880005  2052.510010  4.430850e+09   \n",
       "2015-10-21  2033.469971  2037.969971  2017.219971  2018.939941  3.627790e+09   \n",
       "2015-10-20  2033.130005  2039.119995  2026.609985  2030.770020  3.331500e+09   \n",
       "2015-10-19  2031.729980  2034.449951  2022.310059  2033.660034  3.287320e+09   \n",
       "2015-10-16  2024.369995  2033.540039  2020.459961  2033.109985  3.595430e+09   \n",
       "2015-10-15  1996.469971  2024.150024  1996.469971  2023.859985  3.746290e+09   \n",
       "2015-10-14  2003.660034  2009.560059  1990.729980  1994.239990  3.644590e+09   \n",
       "2015-10-13  2015.000000  2022.339966  2001.780029  2003.689941  3.401920e+09   \n",
       "2015-10-12  2015.650024  2018.660034  2010.550049  2017.459961  2.893250e+09   \n",
       "\n",
       "              Adj Close  High-Low_pct        ewm_5  price_std_5  \\\n",
       "Date                                                              \n",
       "2015-10-23  2075.149902      1.502949  2078.965230    19.662414   \n",
       "2015-10-22  2052.510010      0.546166  2077.693450    19.676415   \n",
       "2015-10-21  2018.939941     -0.377250  2069.298950    20.183769   \n",
       "2015-10-20  2030.770020     -0.397108  2052.512588    22.378095   \n",
       "2015-10-19  2033.660034     -0.029586  2045.265058    23.970453   \n",
       "2015-10-16  2033.109985      0.077446  2041.396714    24.654181   \n",
       "2015-10-15  2023.859985      1.116199  2038.634470    25.718597   \n",
       "2015-10-14  1994.239990     -0.319724  2033.709640    26.960525   \n",
       "2015-10-13  2003.689941      0.091867  2020.553087    30.058610   \n",
       "2015-10-12  2017.459961     -0.605544  2014.932038    31.885833   \n",
       "\n",
       "            volume Change  volume_avg_5  volume Close  \n",
       "Date                                                   \n",
       "2015-10-23       0.213438  4.113186e+09  4.778334e+08  \n",
       "2015-10-22       0.078470  4.083638e+09  4.713022e+08  \n",
       "2015-10-21      -0.181243  4.168020e+09  4.919039e+08  \n",
       "2015-10-20      -0.081672  3.953956e+09  4.329012e+08  \n",
       "2015-10-19      -0.013261  3.776880e+09  4.772727e+08  \n",
       "2015-10-16       0.093727  3.757184e+09  4.989846e+08  \n",
       "2015-10-15       0.041959  3.654578e+09  4.599109e+08  \n",
       "2015-10-14      -0.027147  3.517666e+09  1.988470e+08  \n",
       "2015-10-13      -0.066584  3.521026e+09  2.012998e+08  \n",
       "2015-10-12      -0.149524  3.535110e+09  1.866553e+08  "
      ]
     },
     "execution_count": 32,
     "metadata": {},
     "output_type": "execute_result"
    }
   ],
   "source": [
    "SPY_data.head(10)"
   ]
  },
  {
   "cell_type": "code",
   "execution_count": 33,
   "metadata": {},
   "outputs": [],
   "source": [
    "train = SPY_data[SPY_data.index < datetime(year=2015, month=1, day=1)]\n",
    "test = SPY_data[SPY_data.index >= datetime(year=2015, month=1, day=1)]\n",
    "dates = test.index"
   ]
  },
  {
   "cell_type": "markdown",
   "metadata": {},
   "source": [
    "## Make predictions, obtain the performance of the model, and plot the results"
   ]
  },
  {
   "cell_type": "code",
   "execution_count": 34,
   "metadata": {},
   "outputs": [
    {
     "data": {
      "text/plain": [
       "LinearRegression()"
      ]
     },
     "execution_count": 34,
     "metadata": {},
     "output_type": "execute_result"
    }
   ],
   "source": [
    "lr = LinearRegression()\n",
    " \n",
    "X_train = train[[\"High-Low_pct\",\"ewm_5\",\"price_std_5\",\"volume_avg_5\",\"volume Change\",\"volume Close\"]]\n",
    " \n",
    "Y_train = train[\"Adj Close\"]\n",
    " \n",
    "lr.fit(X_train,Y_train) "
   ]
  },
  {
   "cell_type": "code",
   "execution_count": 35,
   "metadata": {},
   "outputs": [],
   "source": [
    "# Create the test features dataset (X_test) which will be used to make the predictions.\n",
    "X_test = test[[\"High-Low_pct\",\"ewm_5\",\"price_std_5\",\"volume_avg_5\",\"volume Change\",\"volume Close\"]].values \n",
    "\n",
    "# The labels of the model\n",
    "Y_test = test[\"Adj Close\"].values "
   ]
  },
  {
   "cell_type": "code",
   "execution_count": 36,
   "metadata": {},
   "outputs": [
    {
     "name": "stdout",
     "output_type": "stream",
     "text": [
      "18.09037765557185\n"
     ]
    }
   ],
   "source": [
    "close_predictions = lr.predict(X_test)   \n",
    "\n",
    "mae = sum(abs(close_predictions - test[\"Adj Close\"].values)) / test.shape[0]\n",
    "\n",
    "print(mae)"
   ]
  },
  {
   "cell_type": "code",
   "execution_count": 37,
   "metadata": {},
   "outputs": [
    {
     "name": "stderr",
     "output_type": "stream",
     "text": [
      "<ipython-input-37-74045af26d5e>:6: SettingWithCopyWarning: \n",
      "A value is trying to be set on a copy of a slice from a DataFrame.\n",
      "Try using .loc[row_indexer,col_indexer] = value instead\n",
      "\n",
      "See the caveats in the documentation: https://pandas.pydata.org/pandas-docs/stable/user_guide/indexing.html#returning-a-view-versus-a-copy\n",
      "  df1['Date'] = df1['Date'].dt.strftime('%Y-%m-%d')\n"
     ]
    },
    {
     "data": {
      "image/png": "[encoded data removed]",
      "text/plain": [
       "<Figure size 576x432 with 1 Axes>"
      ]
     },
     "metadata": {
      "needs_background": "light"
     },
     "output_type": "display_data"
    }
   ],
   "source": [
    "# Create a dataframe that output the Date, the Actual and the predicted values\n",
    "df = pd.DataFrame({'Date':dates,'Actual': Y_test, 'Predicted': close_predictions})\n",
    "df1 = df.tail(25)\n",
    " \n",
    "# set the date with string format for plotting\n",
    "df1['Date'] = df1['Date'].dt.strftime('%Y-%m-%d')\n",
    " \n",
    "df1.set_index('Date',inplace=True)\n",
    " \n",
    "error = df1['Actual'] - df1['Predicted']\n",
    " \n",
    "# Plot the error term between the actual and predicted values for the last 25 days\n",
    " \n",
    "error.plot(kind='bar',figsize=(8,6))\n",
    "plt.grid(which='major', linestyle='-', linewidth='0.5', color='green')\n",
    "plt.grid(which='minor', linestyle=':', linewidth='0.5', color='black')\n",
    "plt.xticks(rotation=45)\n",
    "plt.show();"
   ]
  },
  {
   "cell_type": "code",
   "execution_count": 38,
   "metadata": {},
   "outputs": [
    {
     "data": {
      "text/plain": [
       "array([ 0.        ,  0.52631579,  1.05263158,  1.57894737,  2.10526316,\n",
       "        2.63157895,  3.15789474,  3.68421053,  4.21052632,  4.73684211,\n",
       "        5.26315789,  5.78947368,  6.31578947,  6.84210526,  7.36842105,\n",
       "        7.89473684,  8.42105263,  8.94736842,  9.47368421, 10.        ])"
      ]
     },
     "execution_count": 38,
     "metadata": {},
     "output_type": "execute_result"
    }
   ],
   "source": [
    "np.linspace(0,1,20) * 10"
   ]
  },
  {
   "cell_type": "code",
   "execution_count": null,
   "metadata": {},
   "outputs": [],
   "source": []
  }
 ],
 "metadata": {
  "kernelspec": {
   "display_name": "Python 3",
   "language": "python",
   "name": "python3"
  },
  "language_info": {
   "codemirror_mode": {
    "name": "ipython",
    "version": 3
   },
   "file_extension": ".py",
   "mimetype": "text/x-python",
   "name": "python",
   "nbconvert_exporter": "python",
   "pygments_lexer": "ipython3",
   "version": "3.8.3"
  }
 },
 "nbformat": 4,
 "nbformat_minor": 2
}
